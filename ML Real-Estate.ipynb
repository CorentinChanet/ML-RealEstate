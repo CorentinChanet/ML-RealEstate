{
 "cells": [
  {
   "cell_type": "markdown",
   "id": "76e827a5-5138-4fb5-997d-ef2fc6f3e591",
   "metadata": {},
   "source": [
    "<h1> DATA CLEANING </h1>"
   ]
  },
  {
   "cell_type": "code",
   "execution_count": 1,
   "id": "fb6a9801-5421-44df-94da-9a2929e2f245",
   "metadata": {},
   "outputs": [],
   "source": [
    "import seaborn as sns\n",
    "import matplotlib.pyplot as plt\n",
    "import matplotlib.ticker as ticker\n",
    "import pandas as pd\n",
    "import numpy as np\n",
    "\n",
    "%matplotlib inline"
   ]
  },
  {
   "cell_type": "code",
   "execution_count": 2,
   "id": "2f0da07e-6a19-4f45-87a6-d30569ca5c09",
   "metadata": {},
   "outputs": [],
   "source": [
    "df = pd.read_csv(\"challenge-collecting-data/clean_data.csv\")\n",
    "df = df.rename(columns={\"Unnamed: 0\": \"index\"})\n",
    "df = df.set_index(\"index\")"
   ]
  },
  {
   "cell_type": "code",
   "execution_count": 3,
   "id": "6e474eae-d25d-4170-8fd5-8df8c23fe07b",
   "metadata": {},
   "outputs": [],
   "source": [
    "for column in df.columns.to_list():\n",
    "    df[column] = df[column].apply(lambda x:int(eval(x)) if x in ['True', 'False'] else x)\n",
    "    df[column] = df[column].apply(lambda x:int(x) if x in [True, False] else x)\n",
    "\n",
    "\n",
    "df.drop(df[df.subtype == 'APARTMENT_BLOCK'].index, axis=0, inplace=True)\n",
    "df.drop(['terraceSurface', 'gardenSurface', \"isFurnished\", 'facadeCount'], axis=1, inplace=True)\n",
    "\n",
    "df.loc[df.kitchen.isin(['USA_SEMI_EQUIPPED', 'USA_UNINSTALLED']), 'kitchen'] = 0\n",
    "df.rename(columns={'kitchen':'full_kitchen'}, inplace=True)\n",
    "\n",
    "features = ['type', 'subtype', 'price', 'postalCode', 'condition', 'bedroomCount', 'netHabitableSurface']\n",
    "df.drop_duplicates(subset=features, inplace=True)\n",
    "\n",
    "df.dropna(subset=['price'], inplace=True)\n",
    "df.dropna(subset=['netHabitableSurface'], inplace=True)\n",
    "# df.dropna(subset=['condition'], inplace=True)\n",
    "df.dropna(subset=['full_kitchen'], inplace=True)\n",
    "\n",
    "for column in ['hasTerrace','hasGarden', 'full_kitchen', 'hasSwimmingPool']:\n",
    "    df[column].fillna(0, inplace=True)\n",
    "df = df.astype({'hasTerrace': int, 'hasGarden': int, 'full_kitchen': int})\n",
    "\n",
    "type_binary = {'HOUSE': 1,\n",
    "               'APARTMENT': 0}\n",
    "\n",
    "df.type = df.type.apply(lambda x:type_binary[x])\n"
   ]
  },
  {
   "cell_type": "code",
   "execution_count": 4,
   "id": "fc2863a7-ca3f-4048-90e2-67cfe52115de",
   "metadata": {
    "tags": []
   },
   "outputs": [],
   "source": [
    "codes = ((\"Brussels Capital Region\", 1000, 1299),\n",
    "          (\"Walloon Brabant\", 1300, 1499),\n",
    "          (\"Flemish Brabant\", 1500, 1999),\n",
    "          (\"Antwerp\", 2000, 2999),\n",
    "          (\"Flemish Brabant\", 3000, 3499),\n",
    "          (\"Limburg\", 3500, 3999),\n",
    "          (\"Liege\", 4000, 4999),\n",
    "          (\"Namur\", 5000, 5999),\n",
    "          (\"Hainaut\", 6000, 6599),\n",
    "          (\"Luxembourg\", 6600, 6999),\n",
    "          (\"Hainaut\", 7000, 7999),\n",
    "          (\"West Flanders\", 8000, 8999),\n",
    "          (\"East Flanders\", 9000, 9999))\n",
    "\n",
    "def find_province(postalCode):\n",
    "    for _tuple in codes:\n",
    "        if _tuple[1] <= postalCode <= _tuple[2]:\n",
    "            return _tuple[0]\n",
    "    return np.nan\n",
    "\n",
    "# province = df.postalCode.apply(find_province)\n",
    "# df['Province'] = province"
   ]
  },
  {
   "cell_type": "markdown",
   "id": "01a679c5-3dfb-4cf7-9364-79d692222511",
   "metadata": {},
   "source": [
    "## Machine Learning"
   ]
  },
  {
   "cell_type": "code",
   "execution_count": 5,
   "id": "fb978f3d-be95-43b4-aa6f-8196a14c39ae",
   "metadata": {},
   "outputs": [],
   "source": [
    "from sklearn.model_selection import train_test_split\n",
    "from sklearn.model_selection import cross_val_score\n",
    "from sklearn.model_selection import RepeatedKFold\n",
    "from sklearn.model_selection import GridSearchCV\n",
    "from sklearn.ensemble import RandomForestRegressor\n",
    "from sklearn.preprocessing import RobustScaler\n",
    "from sklearn.preprocessing import MinMaxScaler\n",
    "from sklearn.preprocessing import power_transform\n",
    "from sklearn.linear_model import ElasticNet\n",
    "from sklearn.pipeline import Pipeline\n",
    "from sklearn.metrics import mean_absolute_error\n",
    "from sklearn.metrics import mean_squared_error\n",
    "from sklearn.metrics import r2_score\n",
    "from scipy import stats"
   ]
  },
  {
   "cell_type": "code",
   "execution_count": 6,
   "id": "1845dd46-d4c1-441d-8245-9bd3f46fc6ad",
   "metadata": {},
   "outputs": [
    {
     "data": {
      "text/plain": [
       "(10016, 856)"
      ]
     },
     "execution_count": 6,
     "metadata": {},
     "output_type": "execute_result"
    }
   ],
   "source": [
    "s = df.postalCode\n",
    "codes = pd.get_dummies(s, drop_first=True)\n",
    "df.drop(['postalCode', 'locality'], axis=1, inplace=True)\n",
    "codes.shape"
   ]
  },
  {
   "cell_type": "code",
   "execution_count": 7,
   "id": "54c11f36-aff2-4d06-bb12-732975770437",
   "metadata": {},
   "outputs": [
    {
     "data": {
      "text/plain": [
       "(10016, 21)"
      ]
     },
     "execution_count": 7,
     "metadata": {},
     "output_type": "execute_result"
    }
   ],
   "source": [
    "s = df.subtype\n",
    "subtypes = pd.get_dummies(s, drop_first=True)\n",
    "df.drop(['subtype'], axis=1, inplace=True)\n",
    "subtypes.shape"
   ]
  },
  {
   "cell_type": "code",
   "execution_count": 8,
   "id": "6d08d2c8-ff47-47a0-a2e2-9f7d6157995a",
   "metadata": {},
   "outputs": [],
   "source": [
    "belgium = pd.concat([df, codes, subtypes], axis=1)\n",
    "\n",
    "# Not using the 'condition' ordinal feature for now\n",
    "belgium.drop(['condition'], axis=1, inplace=True)"
   ]
  },
  {
   "cell_type": "code",
   "execution_count": 9,
   "id": "ab19e4e1-eb85-4f5f-84e0-745af7d159d6",
   "metadata": {},
   "outputs": [],
   "source": [
    "belgium = belgium[(np.abs(stats.zscore(belgium['price'])) < 3)]\n",
    "belgium = belgium[(np.abs(stats.zscore(belgium['bedroomCount'])) < 3)]\n",
    "\n",
    "# Getting rid of persisting outliers at low-values\n",
    "belgium = belgium.sort_values('price').iloc[6:,:]\n",
    "\n",
    "price = np.array(belgium.price)\n",
    "data = belgium.drop('price', axis=1)"
   ]
  },
  {
   "cell_type": "code",
   "execution_count": 10,
   "id": "ed1877d3-9603-44c7-a188-ec1ac57c08ee",
   "metadata": {},
   "outputs": [
    {
     "data": {
      "text/html": [
       "<div>\n",
       "<style scoped>\n",
       "    .dataframe tbody tr th:only-of-type {\n",
       "        vertical-align: middle;\n",
       "    }\n",
       "\n",
       "    .dataframe tbody tr th {\n",
       "        vertical-align: top;\n",
       "    }\n",
       "\n",
       "    .dataframe thead th {\n",
       "        text-align: right;\n",
       "    }\n",
       "</style>\n",
       "<table border=\"1\" class=\"dataframe\">\n",
       "  <thead>\n",
       "    <tr style=\"text-align: right;\">\n",
       "      <th></th>\n",
       "      <th>type</th>\n",
       "      <th>bedroomCount</th>\n",
       "      <th>netHabitableSurface</th>\n",
       "      <th>full_kitchen</th>\n",
       "      <th>hasTerrace</th>\n",
       "      <th>hasGarden</th>\n",
       "      <th>hasSwimmingPool</th>\n",
       "      <th>fireplaceExists</th>\n",
       "      <th>1020</th>\n",
       "      <th>1030</th>\n",
       "      <th>...</th>\n",
       "      <th>LOFT</th>\n",
       "      <th>MANOR_HOUSE</th>\n",
       "      <th>MANSION</th>\n",
       "      <th>MIXED_USE_BUILDING</th>\n",
       "      <th>OTHER_PROPERTY</th>\n",
       "      <th>PENTHOUSE</th>\n",
       "      <th>SERVICE_FLAT</th>\n",
       "      <th>TOWN_HOUSE</th>\n",
       "      <th>TRIPLEX</th>\n",
       "      <th>VILLA</th>\n",
       "    </tr>\n",
       "    <tr>\n",
       "      <th>index</th>\n",
       "      <th></th>\n",
       "      <th></th>\n",
       "      <th></th>\n",
       "      <th></th>\n",
       "      <th></th>\n",
       "      <th></th>\n",
       "      <th></th>\n",
       "      <th></th>\n",
       "      <th></th>\n",
       "      <th></th>\n",
       "      <th></th>\n",
       "      <th></th>\n",
       "      <th></th>\n",
       "      <th></th>\n",
       "      <th></th>\n",
       "      <th></th>\n",
       "      <th></th>\n",
       "      <th></th>\n",
       "      <th></th>\n",
       "      <th></th>\n",
       "      <th></th>\n",
       "    </tr>\n",
       "  </thead>\n",
       "  <tbody>\n",
       "    <tr>\n",
       "      <th>11575</th>\n",
       "      <td>0</td>\n",
       "      <td>1.0</td>\n",
       "      <td>40.0</td>\n",
       "      <td>0</td>\n",
       "      <td>1</td>\n",
       "      <td>0</td>\n",
       "      <td>0.0</td>\n",
       "      <td>0</td>\n",
       "      <td>0</td>\n",
       "      <td>0</td>\n",
       "      <td>...</td>\n",
       "      <td>0</td>\n",
       "      <td>0</td>\n",
       "      <td>0</td>\n",
       "      <td>0</td>\n",
       "      <td>0</td>\n",
       "      <td>0</td>\n",
       "      <td>0</td>\n",
       "      <td>0</td>\n",
       "      <td>0</td>\n",
       "      <td>0</td>\n",
       "    </tr>\n",
       "    <tr>\n",
       "      <th>16790</th>\n",
       "      <td>0</td>\n",
       "      <td>2.0</td>\n",
       "      <td>110.0</td>\n",
       "      <td>1</td>\n",
       "      <td>1</td>\n",
       "      <td>0</td>\n",
       "      <td>0.0</td>\n",
       "      <td>0</td>\n",
       "      <td>0</td>\n",
       "      <td>0</td>\n",
       "      <td>...</td>\n",
       "      <td>0</td>\n",
       "      <td>0</td>\n",
       "      <td>0</td>\n",
       "      <td>0</td>\n",
       "      <td>0</td>\n",
       "      <td>0</td>\n",
       "      <td>0</td>\n",
       "      <td>0</td>\n",
       "      <td>0</td>\n",
       "      <td>0</td>\n",
       "    </tr>\n",
       "    <tr>\n",
       "      <th>1296</th>\n",
       "      <td>1</td>\n",
       "      <td>3.0</td>\n",
       "      <td>126.0</td>\n",
       "      <td>0</td>\n",
       "      <td>1</td>\n",
       "      <td>1</td>\n",
       "      <td>0.0</td>\n",
       "      <td>0</td>\n",
       "      <td>0</td>\n",
       "      <td>0</td>\n",
       "      <td>...</td>\n",
       "      <td>0</td>\n",
       "      <td>0</td>\n",
       "      <td>0</td>\n",
       "      <td>0</td>\n",
       "      <td>0</td>\n",
       "      <td>0</td>\n",
       "      <td>0</td>\n",
       "      <td>0</td>\n",
       "      <td>0</td>\n",
       "      <td>0</td>\n",
       "    </tr>\n",
       "    <tr>\n",
       "      <th>486</th>\n",
       "      <td>1</td>\n",
       "      <td>1.0</td>\n",
       "      <td>25.0</td>\n",
       "      <td>0</td>\n",
       "      <td>1</td>\n",
       "      <td>0</td>\n",
       "      <td>0.0</td>\n",
       "      <td>0</td>\n",
       "      <td>0</td>\n",
       "      <td>0</td>\n",
       "      <td>...</td>\n",
       "      <td>0</td>\n",
       "      <td>0</td>\n",
       "      <td>0</td>\n",
       "      <td>0</td>\n",
       "      <td>0</td>\n",
       "      <td>0</td>\n",
       "      <td>0</td>\n",
       "      <td>0</td>\n",
       "      <td>0</td>\n",
       "      <td>0</td>\n",
       "    </tr>\n",
       "    <tr>\n",
       "      <th>4534</th>\n",
       "      <td>1</td>\n",
       "      <td>3.0</td>\n",
       "      <td>191.0</td>\n",
       "      <td>0</td>\n",
       "      <td>1</td>\n",
       "      <td>0</td>\n",
       "      <td>0.0</td>\n",
       "      <td>0</td>\n",
       "      <td>0</td>\n",
       "      <td>0</td>\n",
       "      <td>...</td>\n",
       "      <td>0</td>\n",
       "      <td>0</td>\n",
       "      <td>0</td>\n",
       "      <td>0</td>\n",
       "      <td>0</td>\n",
       "      <td>0</td>\n",
       "      <td>0</td>\n",
       "      <td>0</td>\n",
       "      <td>0</td>\n",
       "      <td>0</td>\n",
       "    </tr>\n",
       "  </tbody>\n",
       "</table>\n",
       "<p>5 rows × 885 columns</p>\n",
       "</div>"
      ],
      "text/plain": [
       "       type  bedroomCount  netHabitableSurface  full_kitchen  hasTerrace  \\\n",
       "index                                                                      \n",
       "11575     0           1.0                 40.0             0           1   \n",
       "16790     0           2.0                110.0             1           1   \n",
       "1296      1           3.0                126.0             0           1   \n",
       "486       1           1.0                 25.0             0           1   \n",
       "4534      1           3.0                191.0             0           1   \n",
       "\n",
       "       hasGarden  hasSwimmingPool  fireplaceExists  1020  1030  ...  LOFT  \\\n",
       "index                                                           ...         \n",
       "11575          0              0.0                0     0     0  ...     0   \n",
       "16790          0              0.0                0     0     0  ...     0   \n",
       "1296           1              0.0                0     0     0  ...     0   \n",
       "486            0              0.0                0     0     0  ...     0   \n",
       "4534           0              0.0                0     0     0  ...     0   \n",
       "\n",
       "       MANOR_HOUSE  MANSION  MIXED_USE_BUILDING  OTHER_PROPERTY  PENTHOUSE  \\\n",
       "index                                                                        \n",
       "11575            0        0                   0               0          0   \n",
       "16790            0        0                   0               0          0   \n",
       "1296             0        0                   0               0          0   \n",
       "486              0        0                   0               0          0   \n",
       "4534             0        0                   0               0          0   \n",
       "\n",
       "       SERVICE_FLAT  TOWN_HOUSE  TRIPLEX  VILLA  \n",
       "index                                            \n",
       "11575             0           0        0      0  \n",
       "16790             0           0        0      0  \n",
       "1296              0           0        0      0  \n",
       "486               0           0        0      0  \n",
       "4534              0           0        0      0  \n",
       "\n",
       "[5 rows x 885 columns]"
      ]
     },
     "execution_count": 10,
     "metadata": {},
     "output_type": "execute_result"
    }
   ],
   "source": [
    "y_box = np.ravel(power_transform(price.reshape(-1, 1), method='box-cox'))\n",
    "y = price\n",
    "y_log = np.log(price)\n",
    "X = data\n",
    "X.head()"
   ]
  },
  {
   "cell_type": "code",
   "execution_count": 11,
   "id": "ec4202c2-2097-4c8b-942e-77724fd58a80",
   "metadata": {},
   "outputs": [],
   "source": [
    "scaler = RobustScaler()"
   ]
  },
  {
   "cell_type": "code",
   "execution_count": 12,
   "id": "5793fcd8-8494-4e8d-8d83-aecad1a8c060",
   "metadata": {},
   "outputs": [],
   "source": [
    "model = RandomForestRegressor(random_state=0)"
   ]
  },
  {
   "cell_type": "code",
   "execution_count": 13,
   "id": "65f664c9-bb97-42d1-9ae6-95c47437794c",
   "metadata": {},
   "outputs": [],
   "source": [
    "Kfolds = RepeatedKFold(n_splits=5, n_repeats=1, random_state=21)"
   ]
  },
  {
   "cell_type": "code",
   "execution_count": 14,
   "id": "7ed47d0b-0eff-40c7-a50c-44996fd87ec0",
   "metadata": {},
   "outputs": [],
   "source": [
    "def my_pipe(scaler, model, Kfolds, X, y):\n",
    "    \n",
    "    X_train, X_test, y_train, y_test = train_test_split(X, y, test_size=0.25, random_state=0)\n",
    "    scaler.fit(X_train)\n",
    "    X_train = scaler.transform(X_train)\n",
    "    X_test = scaler.transform(X_test)\n",
    "    \n",
    "    params_en = {\n",
    "        'min_samples_split' : [3, 4, 5],\n",
    "        'max_features' : ['log2']\n",
    "    }\n",
    "\n",
    "    results = GridSearchCV(model, param_grid=params_en, cv=Kfolds, scoring='r2', n_jobs=-1, verbose=1).fit(X_train, y_train)\n",
    "    y_predict = results.predict(X_test)\n",
    "\n",
    "    print(results.best_score_, results.best_params_)\n",
    "    print(r2_score(y_test, y_predict))\n",
    "\n",
    "    sns.residplot(x=y_test, y=y_predict)\n",
    "    \n",
    "    return None"
   ]
  },
  {
   "cell_type": "code",
   "execution_count": 15,
   "id": "7864d22e-529b-496f-b5cb-ebc5cf507992",
   "metadata": {},
   "outputs": [
    {
     "name": "stdout",
     "output_type": "stream",
     "text": [
      "Fitting 5 folds for each of 3 candidates, totalling 15 fits\n",
      "0.6420221177301885 {'max_features': 'log2', 'min_samples_split': 4}\n",
      "0.6225908292303319\n"
     ]
    },
    {
     "data": {
      "image/png": "[encoded data removed]",
      "text/plain": [
       "<Figure size 432x288 with 1 Axes>"
      ]
     },
     "metadata": {
      "needs_background": "light"
     },
     "output_type": "display_data"
    }
   ],
   "source": [
    "my_pipe(scaler, model, Kfolds, X, y)"
   ]
  },
  {
   "cell_type": "code",
   "execution_count": 16,
   "id": "ca0c3b86-3152-41f9-b313-69ade6af9694",
   "metadata": {},
   "outputs": [
    {
     "name": "stdout",
     "output_type": "stream",
     "text": [
      "Fitting 5 folds for each of 3 candidates, totalling 15 fits\n",
      "0.6484772016218373 {'max_features': 'log2', 'min_samples_split': 5}\n",
      "0.6515352289992835\n"
     ]
    },
    {
     "data": {
      "image/png": "[encoded data removed]",
      "text/plain": [
       "<Figure size 432x288 with 1 Axes>"
      ]
     },
     "metadata": {
      "needs_background": "light"
     },
     "output_type": "display_data"
    }
   ],
   "source": [
    "my_pipe(scaler, model, Kfolds, X, y_log)"
   ]
  },
  {
   "cell_type": "code",
   "execution_count": null,
   "id": "489b58b4-58a9-4454-9124-0a25a42a300a",
   "metadata": {},
   "outputs": [],
   "source": []
  }
 ],
 "metadata": {
  "kernelspec": {
   "display_name": "Python 3",
   "language": "python",
   "name": "python3"
  },
  "language_info": {
   "codemirror_mode": {
    "name": "ipython",
    "version": 3
   },
   "file_extension": ".py",
   "mimetype": "text/x-python",
   "name": "python",
   "nbconvert_exporter": "python",
   "pygments_lexer": "ipython3",
   "version": "3.8.4rc1"
  }
 },
 "nbformat": 4,
 "nbformat_minor": 5
}
